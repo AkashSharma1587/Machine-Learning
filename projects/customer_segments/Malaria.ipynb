{
 "cells": [
  {
   "cell_type": "code",
   "execution_count": 22,
   "metadata": {
    "collapsed": false
   },
   "outputs": [
    {
     "ename": "ImportError",
     "evalue": "No module named 'pymysql'",
     "output_type": "error",
     "traceback": [
      "\u001b[0;31m---------------------------------------------------------------------------\u001b[0m",
      "\u001b[0;31mImportError\u001b[0m                               Traceback (most recent call last)",
      "\u001b[0;32m<ipython-input-22-2f9ace159a97>\u001b[0m in \u001b[0;36m<module>\u001b[0;34m()\u001b[0m\n\u001b[1;32m      3\u001b[0m \u001b[0;32mfrom\u001b[0m \u001b[0mIPython\u001b[0m\u001b[0;34m.\u001b[0m\u001b[0mdisplay\u001b[0m \u001b[0;32mimport\u001b[0m \u001b[0mdisplay\u001b[0m\u001b[0;34m\u001b[0m\u001b[0m\n\u001b[1;32m      4\u001b[0m \u001b[0;32mfrom\u001b[0m \u001b[0mpandas\u001b[0m\u001b[0;34m.\u001b[0m\u001b[0mio\u001b[0m \u001b[0;32mimport\u001b[0m \u001b[0msql\u001b[0m\u001b[0;34m\u001b[0m\u001b[0m\n\u001b[0;32m----> 5\u001b[0;31m \u001b[0;32mimport\u001b[0m \u001b[0mpymysql\u001b[0m\u001b[0;34m\u001b[0m\u001b[0m\n\u001b[0m",
      "\u001b[0;31mImportError\u001b[0m: No module named 'pymysql'"
     ]
    }
   ],
   "source": [
    "import numpy as np\n",
    "import pandas as pd\n",
    "from IPython.display import display\n",
    "from pandas.io import sql\n",
    "import pymysql"
   ]
  },
  {
   "cell_type": "code",
   "execution_count": 23,
   "metadata": {
    "collapsed": false
   },
   "outputs": [],
   "source": [
    "import visuals as vs\n",
    "\n",
    "# Pretty display for notebooks\n",
    "%matplotlib inline\n",
    "\n",
    "# Load the wholesale customers dataset\n",
    "try:\n",
    "    data = pd.read_csv(\"malaria_dataset.csv\")\n",
    "except:\n",
    "    print(\"Dataset could not be loaded. Is the dataset missing?\")"
   ]
  },
  {
   "cell_type": "code",
   "execution_count": 24,
   "metadata": {
    "collapsed": false
   },
   "outputs": [
    {
     "ename": "SyntaxError",
     "evalue": "invalid syntax (<ipython-input-24-6fe703d54c0f>, line 1)",
     "output_type": "error",
     "traceback": [
      "\u001b[0;36m  File \u001b[0;32m\"<ipython-input-24-6fe703d54c0f>\"\u001b[0;36m, line \u001b[0;32m1\u001b[0m\n\u001b[0;31m    pip install pymysql\u001b[0m\n\u001b[0m              ^\u001b[0m\n\u001b[0;31mSyntaxError\u001b[0m\u001b[0;31m:\u001b[0m invalid syntax\n"
     ]
    }
   ],
   "source": [
    "pip install pymysql"
   ]
  },
  {
   "cell_type": "code",
   "execution_count": 6,
   "metadata": {
    "collapsed": false
   },
   "outputs": [
    {
     "name": "stderr",
     "output_type": "stream",
     "text": [
      "/Users/akash.sharma/anaconda/lib/python3.5/site-packages/numpy/lib/function_base.py:3834: RuntimeWarning: Invalid value encountered in percentile\n",
      "  RuntimeWarning)\n"
     ]
    },
    {
     "data": {
      "text/html": [
       "<div>\n",
       "<table border=\"1\" class=\"dataframe\">\n",
       "  <thead>\n",
       "    <tr style=\"text-align: right;\">\n",
       "      <th></th>\n",
       "      <th>Years</th>\n",
       "      <th>Afghanistan</th>\n",
       "      <th>Algeria</th>\n",
       "      <th>Angola</th>\n",
       "      <th>Argentina</th>\n",
       "      <th>Armenia</th>\n",
       "      <th>Azerbaijan</th>\n",
       "      <th>Bangladesh</th>\n",
       "      <th>Belize</th>\n",
       "      <th>Benin</th>\n",
       "      <th>...</th>\n",
       "      <th>Turkey</th>\n",
       "      <th>Turkmenistan</th>\n",
       "      <th>Uganda</th>\n",
       "      <th>Uzbekistan</th>\n",
       "      <th>Vanuatu</th>\n",
       "      <th>Venezuela</th>\n",
       "      <th>Vietnam</th>\n",
       "      <th>Yemen</th>\n",
       "      <th>Zambia</th>\n",
       "      <th>Zimbabwe</th>\n",
       "    </tr>\n",
       "  </thead>\n",
       "  <tbody>\n",
       "    <tr>\n",
       "      <th>count</th>\n",
       "      <td>17.000000</td>\n",
       "      <td>12.000000</td>\n",
       "      <td>12.000000</td>\n",
       "      <td>16.000000</td>\n",
       "      <td>17.000000</td>\n",
       "      <td>17.000000</td>\n",
       "      <td>17.000000</td>\n",
       "      <td>17.000000</td>\n",
       "      <td>16.000000</td>\n",
       "      <td>17.000000</td>\n",
       "      <td>...</td>\n",
       "      <td>17.000000</td>\n",
       "      <td>17.000000</td>\n",
       "      <td>13.000000</td>\n",
       "      <td>17.000000</td>\n",
       "      <td>17.000000</td>\n",
       "      <td>17.000000</td>\n",
       "      <td>17.000000</td>\n",
       "      <td>16.000000</td>\n",
       "      <td>16.000000</td>\n",
       "      <td>17.000000</td>\n",
       "    </tr>\n",
       "    <tr>\n",
       "      <th>mean</th>\n",
       "      <td>1998.000000</td>\n",
       "      <td>1622.750000</td>\n",
       "      <td>0.937083</td>\n",
       "      <td>9876.875000</td>\n",
       "      <td>1.789941</td>\n",
       "      <td>7.521000</td>\n",
       "      <td>28.567588</td>\n",
       "      <td>124.911765</td>\n",
       "      <td>1803.687500</td>\n",
       "      <td>8460.000000</td>\n",
       "      <td>...</td>\n",
       "      <td>42.446471</td>\n",
       "      <td>0.424359</td>\n",
       "      <td>25149.230769</td>\n",
       "      <td>0.240794</td>\n",
       "      <td>9511.176471</td>\n",
       "      <td>121.811765</td>\n",
       "      <td>168.594118</td>\n",
       "      <td>2726.000000</td>\n",
       "      <td>34543.750000</td>\n",
       "      <td>9944.117647</td>\n",
       "    </tr>\n",
       "    <tr>\n",
       "      <th>std</th>\n",
       "      <td>5.049752</td>\n",
       "      <td>739.895217</td>\n",
       "      <td>0.610875</td>\n",
       "      <td>5167.308414</td>\n",
       "      <td>1.649510</td>\n",
       "      <td>11.069511</td>\n",
       "      <td>47.860162</td>\n",
       "      <td>85.942618</td>\n",
       "      <td>1561.413493</td>\n",
       "      <td>2763.177519</td>\n",
       "      <td>...</td>\n",
       "      <td>43.427990</td>\n",
       "      <td>0.743412</td>\n",
       "      <td>17258.809568</td>\n",
       "      <td>0.118236</td>\n",
       "      <td>6596.267773</td>\n",
       "      <td>51.450983</td>\n",
       "      <td>72.155444</td>\n",
       "      <td>4331.751343</td>\n",
       "      <td>4456.900081</td>\n",
       "      <td>4213.404293</td>\n",
       "    </tr>\n",
       "    <tr>\n",
       "      <th>min</th>\n",
       "      <td>1990.000000</td>\n",
       "      <td>512.000000</td>\n",
       "      <td>0.309000</td>\n",
       "      <td>1270.000000</td>\n",
       "      <td>0.300000</td>\n",
       "      <td>0.000000</td>\n",
       "      <td>0.304000</td>\n",
       "      <td>43.300000</td>\n",
       "      <td>294.000000</td>\n",
       "      <td>1790.000000</td>\n",
       "      <td>...</td>\n",
       "      <td>1.040000</td>\n",
       "      <td>0.000000</td>\n",
       "      <td>6740.000000</td>\n",
       "      <td>0.057100</td>\n",
       "      <td>2250.000000</td>\n",
       "      <td>59.300000</td>\n",
       "      <td>87.000000</td>\n",
       "      <td>92.500000</td>\n",
       "      <td>23800.000000</td>\n",
       "      <td>2800.000000</td>\n",
       "    </tr>\n",
       "    <tr>\n",
       "      <th>25%</th>\n",
       "      <td>1994.000000</td>\n",
       "      <td>NaN</td>\n",
       "      <td>NaN</td>\n",
       "      <td>NaN</td>\n",
       "      <td>0.577000</td>\n",
       "      <td>0.000000</td>\n",
       "      <td>1.700000</td>\n",
       "      <td>52.100000</td>\n",
       "      <td>NaN</td>\n",
       "      <td>9110.000000</td>\n",
       "      <td>...</td>\n",
       "      <td>14.600000</td>\n",
       "      <td>0.075100</td>\n",
       "      <td>NaN</td>\n",
       "      <td>0.137000</td>\n",
       "      <td>3400.000000</td>\n",
       "      <td>83.700000</td>\n",
       "      <td>106.000000</td>\n",
       "      <td>NaN</td>\n",
       "      <td>NaN</td>\n",
       "      <td>6320.000000</td>\n",
       "    </tr>\n",
       "    <tr>\n",
       "      <th>50%</th>\n",
       "      <td>1998.000000</td>\n",
       "      <td>NaN</td>\n",
       "      <td>NaN</td>\n",
       "      <td>NaN</td>\n",
       "      <td>1.190000</td>\n",
       "      <td>1.710000</td>\n",
       "      <td>6.150000</td>\n",
       "      <td>104.000000</td>\n",
       "      <td>NaN</td>\n",
       "      <td>9620.000000</td>\n",
       "      <td>...</td>\n",
       "      <td>20.900000</td>\n",
       "      <td>0.220000</td>\n",
       "      <td>NaN</td>\n",
       "      <td>0.252000</td>\n",
       "      <td>8410.000000</td>\n",
       "      <td>116.000000</td>\n",
       "      <td>153.000000</td>\n",
       "      <td>NaN</td>\n",
       "      <td>NaN</td>\n",
       "      <td>11400.000000</td>\n",
       "    </tr>\n",
       "    <tr>\n",
       "      <th>75%</th>\n",
       "      <td>2002.000000</td>\n",
       "      <td>NaN</td>\n",
       "      <td>NaN</td>\n",
       "      <td>NaN</td>\n",
       "      <td>2.430000</td>\n",
       "      <td>10.900000</td>\n",
       "      <td>28.600000</td>\n",
       "      <td>143.000000</td>\n",
       "      <td>NaN</td>\n",
       "      <td>10100.000000</td>\n",
       "      <td>...</td>\n",
       "      <td>55.800000</td>\n",
       "      <td>0.328000</td>\n",
       "      <td>NaN</td>\n",
       "      <td>0.307000</td>\n",
       "      <td>15000.000000</td>\n",
       "      <td>136.000000</td>\n",
       "      <td>221.000000</td>\n",
       "      <td>NaN</td>\n",
       "      <td>NaN</td>\n",
       "      <td>13900.000000</td>\n",
       "    </tr>\n",
       "    <tr>\n",
       "      <th>max</th>\n",
       "      <td>2006.000000</td>\n",
       "      <td>2820.000000</td>\n",
       "      <td>2.330000</td>\n",
       "      <td>21400.000000</td>\n",
       "      <td>5.810000</td>\n",
       "      <td>37.100000</td>\n",
       "      <td>167.000000</td>\n",
       "      <td>333.000000</td>\n",
       "      <td>4780.000000</td>\n",
       "      <td>10400.000000</td>\n",
       "      <td>...</td>\n",
       "      <td>137.000000</td>\n",
       "      <td>3.120000</td>\n",
       "      <td>55300.000000</td>\n",
       "      <td>0.510000</td>\n",
       "      <td>21000.000000</td>\n",
       "      <td>238.000000</td>\n",
       "      <td>327.000000</td>\n",
       "      <td>15800.000000</td>\n",
       "      <td>40500.000000</td>\n",
       "      <td>15200.000000</td>\n",
       "    </tr>\n",
       "  </tbody>\n",
       "</table>\n",
       "<p>8 rows × 107 columns</p>\n",
       "</div>"
      ],
      "text/plain": [
       "             Years  Afghanistan    Algeria        Angola  Argentina  \\\n",
       "count    17.000000    12.000000  12.000000     16.000000  17.000000   \n",
       "mean   1998.000000  1622.750000   0.937083   9876.875000   1.789941   \n",
       "std       5.049752   739.895217   0.610875   5167.308414   1.649510   \n",
       "min    1990.000000   512.000000   0.309000   1270.000000   0.300000   \n",
       "25%    1994.000000          NaN        NaN           NaN   0.577000   \n",
       "50%    1998.000000          NaN        NaN           NaN   1.190000   \n",
       "75%    2002.000000          NaN        NaN           NaN   2.430000   \n",
       "max    2006.000000  2820.000000   2.330000  21400.000000   5.810000   \n",
       "\n",
       "         Armenia  Azerbaijan  Bangladesh       Belize         Benin  \\\n",
       "count  17.000000   17.000000   17.000000    16.000000     17.000000   \n",
       "mean    7.521000   28.567588  124.911765  1803.687500   8460.000000   \n",
       "std    11.069511   47.860162   85.942618  1561.413493   2763.177519   \n",
       "min     0.000000    0.304000   43.300000   294.000000   1790.000000   \n",
       "25%     0.000000    1.700000   52.100000          NaN   9110.000000   \n",
       "50%     1.710000    6.150000  104.000000          NaN   9620.000000   \n",
       "75%    10.900000   28.600000  143.000000          NaN  10100.000000   \n",
       "max    37.100000  167.000000  333.000000  4780.000000  10400.000000   \n",
       "\n",
       "           ...           Turkey  Turkmenistan        Uganda  Uzbekistan  \\\n",
       "count      ...        17.000000     17.000000     13.000000   17.000000   \n",
       "mean       ...        42.446471      0.424359  25149.230769    0.240794   \n",
       "std        ...        43.427990      0.743412  17258.809568    0.118236   \n",
       "min        ...         1.040000      0.000000   6740.000000    0.057100   \n",
       "25%        ...        14.600000      0.075100           NaN    0.137000   \n",
       "50%        ...        20.900000      0.220000           NaN    0.252000   \n",
       "75%        ...        55.800000      0.328000           NaN    0.307000   \n",
       "max        ...       137.000000      3.120000  55300.000000    0.510000   \n",
       "\n",
       "            Vanuatu   Venezuela     Vietnam         Yemen        Zambia  \\\n",
       "count     17.000000   17.000000   17.000000     16.000000     16.000000   \n",
       "mean    9511.176471  121.811765  168.594118   2726.000000  34543.750000   \n",
       "std     6596.267773   51.450983   72.155444   4331.751343   4456.900081   \n",
       "min     2250.000000   59.300000   87.000000     92.500000  23800.000000   \n",
       "25%     3400.000000   83.700000  106.000000           NaN           NaN   \n",
       "50%     8410.000000  116.000000  153.000000           NaN           NaN   \n",
       "75%    15000.000000  136.000000  221.000000           NaN           NaN   \n",
       "max    21000.000000  238.000000  327.000000  15800.000000  40500.000000   \n",
       "\n",
       "           Zimbabwe  \n",
       "count     17.000000  \n",
       "mean    9944.117647  \n",
       "std     4213.404293  \n",
       "min     2800.000000  \n",
       "25%     6320.000000  \n",
       "50%    11400.000000  \n",
       "75%    13900.000000  \n",
       "max    15200.000000  \n",
       "\n",
       "[8 rows x 107 columns]"
      ]
     },
     "metadata": {},
     "output_type": "display_data"
    }
   ],
   "source": [
    "display(data.describe())"
   ]
  },
  {
   "cell_type": "code",
   "execution_count": 15,
   "metadata": {
    "collapsed": false
   },
   "outputs": [
    {
     "name": "stdout",
     "output_type": "stream",
     "text": [
      "Years          1990          1991          1992          1993          1994  \\\n",
      "count     89.000000     88.000000     88.000000     90.000000     93.000000   \n",
      "mean    4191.325971   3812.702605   3963.081925   4376.498794   4548.308578   \n",
      "std     8940.506586   7826.364075   8269.889009   9287.877779   9263.844666   \n",
      "min        0.000000      0.000000      0.000000      0.000000      0.019500   \n",
      "25%             NaN           NaN           NaN           NaN           NaN   \n",
      "50%             NaN           NaN           NaN           NaN           NaN   \n",
      "75%             NaN           NaN           NaN           NaN           NaN   \n",
      "max    42000.000000  43800.000000  46200.000000  47500.000000  47600.000000   \n",
      "\n",
      "Years          1995          1996          1997          1998          1999  \\\n",
      "count     94.000000     97.000000     94.000000     98.000000     96.000000   \n",
      "mean    4096.274311   4574.364644   4214.900500   4847.492023   4513.660265   \n",
      "std     7488.885402   9109.287029   7374.185512  11684.696613   7659.584287   \n",
      "min        0.019900      0.040500      0.017500      0.020300      0.093400   \n",
      "25%             NaN           NaN           NaN           NaN           NaN   \n",
      "50%             NaN           NaN           NaN           NaN           NaN   \n",
      "75%             NaN           NaN           NaN           NaN           NaN   \n",
      "max    40600.000000  59900.000000  36000.000000  94600.000000  37200.000000   \n",
      "\n",
      "Years          2000          2001          2002          2003          2004  \\\n",
      "count     89.000000    100.000000     94.000000     94.000000     95.000000   \n",
      "mean    4456.576174   5225.910292   5312.652420   6248.058979   5967.239735   \n",
      "std     8733.837844   9429.652380   9030.694733   9861.989801   9942.539406   \n",
      "min        0.025500      0.016200      0.014500      0.064000      0.060100   \n",
      "25%             NaN           NaN           NaN           NaN           NaN   \n",
      "50%             NaN           NaN           NaN           NaN           NaN   \n",
      "75%             NaN           NaN           NaN           NaN           NaN   \n",
      "max    45900.000000  49200.000000  37600.000000  40500.000000  42800.000000   \n",
      "\n",
      "Years          2005          2006  \n",
      "count     98.000000    100.000000  \n",
      "mean    5651.499901   5608.818443  \n",
      "std     9768.672115   9332.669067  \n",
      "min        0.020700      0.000000  \n",
      "25%             NaN           NaN  \n",
      "50%             NaN           NaN  \n",
      "75%             NaN           NaN  \n",
      "max    55300.000000  42800.000000  \n"
     ]
    },
    {
     "name": "stderr",
     "output_type": "stream",
     "text": [
      "/Users/akash.sharma/anaconda/lib/python3.5/site-packages/numpy/lib/function_base.py:3834: RuntimeWarning: Invalid value encountered in percentile\n",
      "  RuntimeWarning)\n"
     ]
    }
   ],
   "source": [
    "new_data =  (data.set_index('Years').T)\n"
   ]
  },
  {
   "cell_type": "code",
   "execution_count": 20,
   "metadata": {
    "collapsed": false
   },
   "outputs": [
    {
     "ename": "NameError",
     "evalue": "name 'MySQLdb' is not defined",
     "output_type": "error",
     "traceback": [
      "\u001b[0;31m---------------------------------------------------------------------------\u001b[0m",
      "\u001b[0;31mNameError\u001b[0m                                 Traceback (most recent call last)",
      "\u001b[0;32m<ipython-input-20-c28ae7e9f758>\u001b[0m in \u001b[0;36m<module>\u001b[0;34m()\u001b[0m\n\u001b[0;32m----> 1\u001b[0;31m \u001b[0mcon\u001b[0m \u001b[0;34m=\u001b[0m \u001b[0mMySQLdb\u001b[0m\u001b[0;34m.\u001b[0m\u001b[0mconnect\u001b[0m\u001b[0;34m(\u001b[0m\u001b[0;34m)\u001b[0m\u001b[0;34m\u001b[0m\u001b[0m\n\u001b[0m\u001b[1;32m      2\u001b[0m \u001b[0;34m\u001b[0m\u001b[0m\n\u001b[1;32m      3\u001b[0m \u001b[0mnew_data\u001b[0m\u001b[0;34m.\u001b[0m\u001b[0mto_sql\u001b[0m\u001b[0;34m(\u001b[0m\u001b[0mcon\u001b[0m\u001b[0;34m=\u001b[0m\u001b[0mcon\u001b[0m\u001b[0;34m,\u001b[0m \u001b[0mname\u001b[0m\u001b[0;34m=\u001b[0m\u001b[0;34m'table_name_for_df'\u001b[0m\u001b[0;34m,\u001b[0m \u001b[0mif_exists\u001b[0m\u001b[0;34m=\u001b[0m\u001b[0;34m'replace'\u001b[0m\u001b[0;34m,\u001b[0m \u001b[0mflavor\u001b[0m\u001b[0;34m=\u001b[0m\u001b[0;34m'mysql'\u001b[0m\u001b[0;34m)\u001b[0m\u001b[0;34m\u001b[0m\u001b[0m\n",
      "\u001b[0;31mNameError\u001b[0m: name 'MySQLdb' is not defined"
     ]
    }
   ],
   "source": [
    "con = MySQLdb.connect()\n",
    "\n",
    "new_data.to_sql(con=con, name='table_name_for_df', if_exists='replace', flavor='mysql')\n"
   ]
  },
  {
   "cell_type": "code",
   "execution_count": 18,
   "metadata": {
    "collapsed": false
   },
   "outputs": [
    {
     "ename": "NameError",
     "evalue": "name 'MySQLdb' is not defined",
     "output_type": "error",
     "traceback": [
      "\u001b[0;31m---------------------------------------------------------------------------\u001b[0m",
      "\u001b[0;31mNameError\u001b[0m                                 Traceback (most recent call last)",
      "\u001b[0;32m<ipython-input-18-b87c5a080b65>\u001b[0m in \u001b[0;36m<module>\u001b[0;34m()\u001b[0m\n\u001b[0;32m----> 1\u001b[0;31m \u001b[0mcon\u001b[0m \u001b[0;34m=\u001b[0m \u001b[0mMySQLdb\u001b[0m\u001b[0;34m.\u001b[0m\u001b[0mconnect\u001b[0m\u001b[0;34m(\u001b[0m\u001b[0;34m)\u001b[0m\u001b[0;34m\u001b[0m\u001b[0m\n\u001b[0m\u001b[1;32m      2\u001b[0m sql.write_frame(df, con=con, name='newTable', \n\u001b[1;32m      3\u001b[0m                 if_exists='replace', flavor='mysql')\n",
      "\u001b[0;31mNameError\u001b[0m: name 'MySQLdb' is not defined"
     ]
    }
   ],
   "source": [
    "sql.write_frame(df, con=con, name='newTable', \n",
    "                if_exists='replace', flavor='mysql')"
   ]
  },
  {
   "cell_type": "code",
   "execution_count": null,
   "metadata": {
    "collapsed": true
   },
   "outputs": [],
   "source": []
  },
  {
   "cell_type": "code",
   "execution_count": null,
   "metadata": {
    "collapsed": true
   },
   "outputs": [],
   "source": []
  }
 ],
 "metadata": {
  "anaconda-cloud": {},
  "kernelspec": {
   "display_name": "Python [default]",
   "language": "python",
   "name": "python3"
  },
  "language_info": {
   "codemirror_mode": {
    "name": "ipython",
    "version": 3
   },
   "file_extension": ".py",
   "mimetype": "text/x-python",
   "name": "python",
   "nbconvert_exporter": "python",
   "pygments_lexer": "ipython3",
   "version": "3.5.2"
  }
 },
 "nbformat": 4,
 "nbformat_minor": 1
}
